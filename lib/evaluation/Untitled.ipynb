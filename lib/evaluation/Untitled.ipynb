{
 "cells": [
  {
   "cell_type": "code",
   "execution_count": 1,
   "metadata": {},
   "outputs": [],
   "source": [
    "import json\n"
   ]
  },
  {
   "cell_type": "code",
   "execution_count": 2,
   "metadata": {},
   "outputs": [
    {
     "name": "stdout",
     "output_type": "stream",
     "text": [
      "{\"loadtime\": 0, \"processtime\": 0, \"extracttime\": 0, \"depth\": 100,  \"mode\": \"server\" }\n",
      "\n",
      "0\n",
      "{\"loadtime\": 4, \"processtime\": 5, \"extracttime\": 0, \"depth\": 1000,  \"mode\": \"server\" }\n",
      "\n",
      "5\n",
      "{\"loadtime\": 42, \"processtime\": 57, \"extracttime\": 4, \"depth\": 10000,  \"mode\": \"server\" }\n",
      "\n",
      "57\n",
      "{\"loadtime\": 466, \"processtime\": 599, \"extracttime\": 82, \"depth\": 100000,  \"mode\": \"server\" }\n",
      "\n",
      "599\n",
      "{\"loadtime\": 5410, \"processtime\": 6586, \"extracttime\": 1088, \"depth\": 1000000,  \"mode\": \"server\" }\n",
      "\n",
      "6586\n",
      "{\"loadtime\": 2, \"processtime\": 2, \"extracttime\": 0, \"depth\": 100,  \"mode\": \"wasm\" }\n",
      "\n",
      "2\n",
      "{\"loadtime\": 19, \"processtime\": 16, \"extracttime\": 2, \"depth\": 1000,  \"mode\": \"wasm\" }\n",
      "\n",
      "16\n",
      "{\"loadtime\": 202, \"processtime\": 167, \"extracttime\": 24, \"depth\": 10000,  \"mode\": \"wasm\" }\n",
      "\n",
      "167\n",
      "{\"loadtime\": 2142, \"processtime\": 1598, \"extracttime\": 252, \"depth\": 100000,  \"mode\": \"wasm\" }\n",
      "\n",
      "1598\n",
      "{\"loadtime\": 25475, \"processtime\": 17492, \"extracttime\": 2792, \"depth\": 1000000,  \"mode\": \"wasm\" }\n",
      "\n",
      "17492\n",
      "{\"loadtime\": 1, \"processtime\": 1, \"extracttime\": 1, \"depth\": 100,  \"mode\": \"js\" }\n",
      "\n",
      "1\n",
      "{\"loadtime\": 12, \"processtime\": 19, \"extracttime\": 0, \"depth\": 1000,  \"mode\": \"js\" }\n",
      "\n",
      "19\n",
      "{\"loadtime\": 94, \"processtime\": 88, \"extracttime\": 9, \"depth\": 10000,  \"mode\": \"js\" }\n",
      "\n",
      "88\n",
      "{\"loadtime\": 1028, \"processtime\": 734, \"extracttime\": 110, \"depth\": 100000,  \"mode\": \"js\" }\n",
      "\n",
      "734\n",
      "{\"loadtime\": 10430, \"processtime\": 10595, \"extracttime\": 1453, \"depth\": 1000000,  \"mode\": \"js\" }\n",
      "10595\n"
     ]
    }
   ],
   "source": [
    "file1 = open('eval.txt', 'r')\n",
    "Lines = file1.readlines()\n",
    "  \n",
    "count = 0\n",
    "# Strips the newline character\n",
    "modes={\"js\":[], \"wasm\":[],\"server\":[]}\n",
    "for line in Lines:\n",
    "    json_parsed = json.loads(line)\n",
    "    print(line)\n",
    "    print(json_parsed['processtime'])\n",
    "    modes[json_parsed[\"mode\"]].append(int(json_parsed[\"processtime\"]))"
   ]
  },
  {
   "cell_type": "code",
   "execution_count": 3,
   "metadata": {},
   "outputs": [
    {
     "data": {
      "text/plain": [
       "{'js': [1, 19, 88, 734, 10595],\n",
       " 'server': [0, 5, 57, 599, 6586],\n",
       " 'wasm': [2, 16, 167, 1598, 17492]}"
      ]
     },
     "execution_count": 3,
     "metadata": {},
     "output_type": "execute_result"
    }
   ],
   "source": [
    "modes"
   ]
  },
  {
   "cell_type": "code",
   "execution_count": null,
   "metadata": {},
   "outputs": [],
   "source": [
    "import matplotlib.pyplot as plt\n",
    "for (key, val) in modes.items():\n",
    "    plt.plot(val, label=key)\n",
    "plt.ylabel('time (ms)')\n",
    "plt.xlabel('taxonomy depth')\n",
    "plt.xticks([0,1,2,3],[100,1000,10000,100000, 1000000])\n",
    "plt.title(\"Materialization time for increasing hierarcy\")\n",
    "plt.legend()\n",
    "plt.show()"
   ]
  },
  {
   "cell_type": "code",
   "execution_count": null,
   "metadata": {},
   "outputs": [],
   "source": []
  }
 ],
 "metadata": {
  "kernelspec": {
   "display_name": "Python 3 (ipykernel)",
   "language": "python",
   "name": "python3"
  },
  "language_info": {
   "codemirror_mode": {
    "name": "ipython",
    "version": 2
   },
   "file_extension": ".py",
   "mimetype": "text/x-python",
   "name": "python",
   "nbconvert_exporter": "python",
   "pygments_lexer": "ipython2",
   "version": "2.7.16"
  }
 },
 "nbformat": 4,
 "nbformat_minor": 2
}
